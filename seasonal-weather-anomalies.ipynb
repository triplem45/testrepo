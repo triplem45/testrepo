{
 "cells": [
  {
   "cell_type": "markdown",
   "metadata": {},
   "source": [
    "A data file is provided with daily temperature data from Sodankylä from <b>January 1908 to October 2020</b>. The data was downloaded from the NOAA Global Historical Climate Network database as a text file. \n",
    "\n",
    "\n",
    "STATION           | STATION_NAME     | DATE     | TAVG  | TMAX  | TMIN | \n",
    "------------------|------------------|----------|-------|-------|------|\n",
    "GHCND:FI000007501 | SODANKYLA-AWS-FI | 19080101 | -9999 | 2     | -37  |\n",
    "GHCND:FI000007501 | SODANKYLA-AWS-FI | 19080102 | -9999 | 6     | -26  |\n",
    "GHCND:FI000007501 | SODANKYLA-AWS-FI | 19080103 | -9999 | 7     | -27  |\n",
    " ....             |  .....           | ...      |  ...  | ..    | ..   |\n",
    "\n",
    "* `DATE`: Date in 'YEARMODA' format.\n",
    "* `TAVG`: The average daily temperature in Fahrenheit.\n",
    "* `TMAX`: The maximum daily temperature in Fahrenheit.\n",
    "* `TMIN`: The minimum daily temperature in Fahrenheit\n",
    " it\n",
    "\n",
    "Missing data are identified with **-9999**\n",
    "\n",
    "## Important note about the da\n",
    "tTt there are many missing values in the TAVG column. For days where the TAVG values are missi an calculate an estimate of the average da ly temperature by averaging the TMAX and TMIN values. You  to do this in a new column. Note don't replace the existing TAVG values with your estimates!"
   ]
  },
  {
   "cell_type": "code",
   "execution_count": 1,
   "metadata": {},
   "outputs": [],
   "source": [
    "import pandas as pd\n",
    "pd.options.mode.copy_on_write = True\n",
    "import matplotlib.pyplot as plt"
   ]
  },
  {
   "cell_type": "markdown",
   "metadata": {},
   "source": [
    "# What to do."
   ]
  },
  {
   "cell_type": "markdown",
   "metadata": {},
   "source": [
    "\n",
    "#### 1. Read in the provided data file using pandas and convert missing data to NA value."
   ]
  },
  {
   "cell_type": "code",
   "execution_count": 2,
   "metadata": {},
   "outputs": [],
   "source": [
    "# Assign the file path to a varible fp\n",
    "fp = r\"data/2315676.txt\"\n",
    "\n",
    "# Read the data file as pandas DataFrame\n",
    "\n",
    "data =pd.read_csv(\n",
    "    fp,\n",
    "    usecols= [\"DATE\", \"TAVG\", \"TMAX\", \"TMIN\"],\n",
    "    skiprows=[1],\n",
    "    na_values=-9999,\n",
    "    sep='\\s+',\n",
    "    parse_dates = [\"DATE\"],   \n",
    ")"
   ]
  },
  {
   "cell_type": "code",
   "execution_count": 3,
   "metadata": {},
   "outputs": [
    {
     "data": {
      "text/html": [
       "<div>\n",
       "<style scoped>\n",
       "    .dataframe tbody tr th:only-of-type {\n",
       "        vertical-align: middle;\n",
       "    }\n",
       "\n",
       "    .dataframe tbody tr th {\n",
       "        vertical-align: top;\n",
       "    }\n",
       "\n",
       "    .dataframe thead th {\n",
       "        text-align: right;\n",
       "    }\n",
       "</style>\n",
       "<table border=\"1\" class=\"dataframe\">\n",
       "  <thead>\n",
       "    <tr style=\"text-align: right;\">\n",
       "      <th></th>\n",
       "      <th>DATE</th>\n",
       "      <th>TAVG</th>\n",
       "      <th>TMAX</th>\n",
       "      <th>TMIN</th>\n",
       "    </tr>\n",
       "  </thead>\n",
       "  <tbody>\n",
       "    <tr>\n",
       "      <th>0</th>\n",
       "      <td>1908-01-01</td>\n",
       "      <td>NaN</td>\n",
       "      <td>2.0</td>\n",
       "      <td>-37.0</td>\n",
       "    </tr>\n",
       "    <tr>\n",
       "      <th>1</th>\n",
       "      <td>1908-01-02</td>\n",
       "      <td>NaN</td>\n",
       "      <td>6.0</td>\n",
       "      <td>-26.0</td>\n",
       "    </tr>\n",
       "    <tr>\n",
       "      <th>2</th>\n",
       "      <td>1908-01-03</td>\n",
       "      <td>NaN</td>\n",
       "      <td>7.0</td>\n",
       "      <td>-27.0</td>\n",
       "    </tr>\n",
       "    <tr>\n",
       "      <th>3</th>\n",
       "      <td>1908-01-04</td>\n",
       "      <td>NaN</td>\n",
       "      <td>-3.0</td>\n",
       "      <td>-27.0</td>\n",
       "    </tr>\n",
       "    <tr>\n",
       "      <th>4</th>\n",
       "      <td>1908-01-05</td>\n",
       "      <td>NaN</td>\n",
       "      <td>4.0</td>\n",
       "      <td>-36.0</td>\n",
       "    </tr>\n",
       "    <tr>\n",
       "      <th>...</th>\n",
       "      <td>...</td>\n",
       "      <td>...</td>\n",
       "      <td>...</td>\n",
       "      <td>...</td>\n",
       "    </tr>\n",
       "    <tr>\n",
       "      <th>41060</th>\n",
       "      <td>2020-10-03</td>\n",
       "      <td>47.0</td>\n",
       "      <td>51.0</td>\n",
       "      <td>NaN</td>\n",
       "    </tr>\n",
       "    <tr>\n",
       "      <th>41061</th>\n",
       "      <td>2020-10-04</td>\n",
       "      <td>43.0</td>\n",
       "      <td>47.0</td>\n",
       "      <td>37.0</td>\n",
       "    </tr>\n",
       "    <tr>\n",
       "      <th>41062</th>\n",
       "      <td>2020-10-05</td>\n",
       "      <td>42.0</td>\n",
       "      <td>NaN</td>\n",
       "      <td>37.0</td>\n",
       "    </tr>\n",
       "    <tr>\n",
       "      <th>41063</th>\n",
       "      <td>2020-10-06</td>\n",
       "      <td>45.0</td>\n",
       "      <td>46.0</td>\n",
       "      <td>43.0</td>\n",
       "    </tr>\n",
       "    <tr>\n",
       "      <th>41064</th>\n",
       "      <td>2020-10-07</td>\n",
       "      <td>47.0</td>\n",
       "      <td>50.0</td>\n",
       "      <td>44.0</td>\n",
       "    </tr>\n",
       "  </tbody>\n",
       "</table>\n",
       "<p>41065 rows × 4 columns</p>\n",
       "</div>"
      ],
      "text/plain": [
       "            DATE  TAVG  TMAX  TMIN\n",
       "0     1908-01-01   NaN   2.0 -37.0\n",
       "1     1908-01-02   NaN   6.0 -26.0\n",
       "2     1908-01-03   NaN   7.0 -27.0\n",
       "3     1908-01-04   NaN  -3.0 -27.0\n",
       "4     1908-01-05   NaN   4.0 -36.0\n",
       "...          ...   ...   ...   ...\n",
       "41060 2020-10-03  47.0  51.0   NaN\n",
       "41061 2020-10-04  43.0  47.0  37.0\n",
       "41062 2020-10-05  42.0   NaN  37.0\n",
       "41063 2020-10-06  45.0  46.0  43.0\n",
       "41064 2020-10-07  47.0  50.0  44.0\n",
       "\n",
       "[41065 rows x 4 columns]"
      ]
     },
     "execution_count": 3,
     "metadata": {},
     "output_type": "execute_result"
    }
   ],
   "source": [
    "data"
   ]
  },
  {
   "cell_type": "markdown",
   "metadata": {},
   "source": [
    "#### 2. Fill in the missing values in the `TAVG` column with your estimates of the average daily temperature as noted above in the data section. You can then drop any average daily temperatures that are still missing.\n",
    "\n"
   ]
  },
  {
   "cell_type": "code",
   "execution_count": 4,
   "metadata": {},
   "outputs": [],
   "source": [
    "# Creating a new column to store values where the TAVG is missing using TMAX and TMIN\n",
    "\n",
    "data[\"TEMP_F\"] = 0.0"
   ]
  },
  {
   "cell_type": "code",
   "execution_count": 5,
   "metadata": {},
   "outputs": [],
   "source": [
    "\"\"\" To find and replace the rows where TAVG is NaN \n",
    "    and Both TMAX and TMIN are not NaN with the average of TMAX and TMIN \"\"\"\n",
    "\n",
    "data.loc[(data[\"TAVG\"].isna()) & (data[\"TMAX\"].notna()) & (data[\"TMAX\"].notna()), \"TEMP_F\"] = (data[\"TMAX\"] + data[\"TMIN\"]) / 2\n",
    "\n",
    "# And for rows where TAVG is not NaN, add the TAVG to the TEMP column\n",
    "\n",
    "data.loc[data[\"TAVG\"].notna(), \"TEMP_F\"] = data[\"TAVG\"]"
   ]
  },
  {
   "cell_type": "code",
   "execution_count": 6,
   "metadata": {},
   "outputs": [
    {
     "data": {
      "text/plain": [
       "True"
      ]
     },
     "execution_count": 6,
     "metadata": {},
     "output_type": "execute_result"
    }
   ],
   "source": [
    "# Test if there are still NaN values in the TEMP column\n",
    "data[\"TEMP_F\"].hasnans\n"
   ]
  },
  {
   "cell_type": "code",
   "execution_count": 7,
   "metadata": {},
   "outputs": [
    {
     "name": "stdout",
     "output_type": "stream",
     "text": [
      "90\n"
     ]
    }
   ],
   "source": [
    "# and The number of NaN values\n",
    "NaN_values = data[\"TEMP_F\"].isna().sum()\n",
    "print(NaN_values)"
   ]
  },
  {
   "cell_type": "code",
   "execution_count": 8,
   "metadata": {},
   "outputs": [],
   "source": [
    "# Using the dropna() function and the subset parameter to to process the NaN values by the TEMP_F column \n",
    "data = data.dropna(subset=[\"TEMP_F\"])"
   ]
  },
  {
   "cell_type": "code",
   "execution_count": 9,
   "metadata": {},
   "outputs": [
    {
     "data": {
      "text/plain": [
       "False"
      ]
     },
     "execution_count": 9,
     "metadata": {},
     "output_type": "execute_result"
    }
   ],
   "source": [
    "#chec again if there are any NaN left\n",
    "data[\"TEMP_F\"].hasnans"
   ]
  },
  {
   "cell_type": "markdown",
   "metadata": {},
   "source": [
    "#### 3. Define and use a function to convert temperatures in Fahrenheit to Celsius."
   ]
  },
  {
   "cell_type": "code",
   "execution_count": 10,
   "metadata": {},
   "outputs": [],
   "source": [
    "def far_to_cel(tempF):\n",
    "    \"\"\"Function to convert Fahrenheit to Celsius.\n",
    "\n",
    "    Parameters\n",
    "    ----------\n",
    "\n",
    "    tempF: int | float\n",
    "        Input temperature in Fahrenheit (should be a number)\n",
    "\n",
    "    Returns\n",
    "    -------\n",
    "\n",
    "    Temperature in Celsius (float)\n",
    "    \"\"\"\n",
    "\n",
    "    # Convert the Fahrenheit into Celsius\n",
    "    tempC = (tempF - 32) / 1.8\n",
    "\n",
    "    return tempC"
   ]
  },
  {
   "cell_type": "code",
   "execution_count": 11,
   "metadata": {},
   "outputs": [],
   "source": [
    "# Creating a new Column TEMP_C to store the temperature in Celsius degree\n",
    "data[\"TEMP_C\"] = 0.0\n",
    "\n",
    "# Assigning the converted value to the column \n",
    "#by calculating it from the TEMP_F column using the created function\n",
    "data[\"TEMP_C\"] = data[\"TEMP_F\"].apply(far_to_cel)"
   ]
  },
  {
   "cell_type": "markdown",
   "metadata": {},
   "source": [
    "#### 4. Calculate seasonal average temperatures for each season in every year (e.g., Winter 1909, Spring 1909, Summer 1909, ...)\n",
    "   \n",
    "    - The seasons should include the following months:\n",
    "\n",
    "          Winter: December, January, February\n",
    "          Spring: March, April, May\n",
    "          Summer: June. July, August\n",
    "          Autumn: September, October, November, \n",
    "          "
   ]
  },
  {
   "cell_type": "code",
   "execution_count": 12,
   "metadata": {},
   "outputs": [],
   "source": [
    "\"\"\"\n",
    "We will create a new column MONTHS that we will store the months \n",
    "by grabbing it from the DATE column,\n",
    "later we will use this column to group the data by the Season and calculate it is mean\n",
    "\"\"\"\n",
    "# Parse the Month temporal components from DATE to column MONTH\n",
    "data[\"MONTH\"] = data[\"DATE\"].dt.month\n",
    "# and for Year \n",
    "data[\"YEAR\"] = data[\"DATE\"].dt.year\n",
    "data[\"SEASON\"] = pd.Series(dtype=\"string\")"
   ]
  },
  {
   "cell_type": "code",
   "execution_count": 13,
   "metadata": {},
   "outputs": [],
   "source": [
    "# Classifying the data according to te month it was quired to Winter, Spring, Summer and Autumn\n",
    "\n",
    "# Monthes 12, 1, and 2 is Winter\n",
    "data.loc[(data[\"MONTH\"] == 12) | (data[\"MONTH\"] < 3), \"SEASON\"] = \"Winter\"\n",
    "\n",
    "# Monthes 3 to 5 is Spring\n",
    "data.loc[(data[\"MONTH\"] >= 3) & (data[\"MONTH\"] < 6), \"SEASON\"] = \"Spring\"\n",
    "\n",
    "# Monthes 6 to 8 is Summer\n",
    "data.loc[(data[\"MONTH\"] >= 6) & (data[\"MONTH\"] < 9), \"SEASON\"] = \"Summer\"\n",
    "\n",
    "# Monthes 9 to 11 is Autumn\n",
    "data.loc[(data[\"MONTH\"] >= 9) & (data[\"MONTH\"] < 12), \"SEASON\"] = \"Autumn\""
   ]
  },
  {
   "cell_type": "code",
   "execution_count": 14,
   "metadata": {},
   "outputs": [
    {
     "data": {
      "text/plain": [
       "<StringArray>\n",
       "['Winter', 'Spring', 'Summer', 'Autumn']\n",
       "Length: 4, dtype: string"
      ]
     },
     "execution_count": 14,
     "metadata": {},
     "output_type": "execute_result"
    }
   ],
   "source": [
    "# making sure different 4 values are stores\n",
    "data[\"SEASON\"].unique()"
   ]
  },
  {
   "cell_type": "code",
   "execution_count": 15,
   "metadata": {},
   "outputs": [],
   "source": [
    "YearlySeason = data.groupby([\"YEAR\", \"SEASON\"])[\"TEMP_C\"].mean().reset_index().rename(columns={\"TEMP_C\" : \"TEMP_YearlyS\"})"
   ]
  },
  {
   "cell_type": "code",
   "execution_count": 16,
   "metadata": {},
   "outputs": [
    {
     "data": {
      "text/html": [
       "<div>\n",
       "<style scoped>\n",
       "    .dataframe tbody tr th:only-of-type {\n",
       "        vertical-align: middle;\n",
       "    }\n",
       "\n",
       "    .dataframe tbody tr th {\n",
       "        vertical-align: top;\n",
       "    }\n",
       "\n",
       "    .dataframe thead th {\n",
       "        text-align: right;\n",
       "    }\n",
       "</style>\n",
       "<table border=\"1\" class=\"dataframe\">\n",
       "  <thead>\n",
       "    <tr style=\"text-align: right;\">\n",
       "      <th></th>\n",
       "      <th>YEAR</th>\n",
       "      <th>SEASON</th>\n",
       "      <th>TEMP_YearlyS</th>\n",
       "    </tr>\n",
       "  </thead>\n",
       "  <tbody>\n",
       "    <tr>\n",
       "      <th>0</th>\n",
       "      <td>1908</td>\n",
       "      <td>Autumn</td>\n",
       "      <td>-1.859217</td>\n",
       "    </tr>\n",
       "    <tr>\n",
       "      <th>1</th>\n",
       "      <td>1908</td>\n",
       "      <td>Spring</td>\n",
       "      <td>-2.693508</td>\n",
       "    </tr>\n",
       "    <tr>\n",
       "      <th>2</th>\n",
       "      <td>1908</td>\n",
       "      <td>Summer</td>\n",
       "      <td>11.105006</td>\n",
       "    </tr>\n",
       "    <tr>\n",
       "      <th>3</th>\n",
       "      <td>1908</td>\n",
       "      <td>Winter</td>\n",
       "      <td>-12.330779</td>\n",
       "    </tr>\n",
       "    <tr>\n",
       "      <th>4</th>\n",
       "      <td>1909</td>\n",
       "      <td>Autumn</td>\n",
       "      <td>-1.541823</td>\n",
       "    </tr>\n",
       "    <tr>\n",
       "      <th>...</th>\n",
       "      <td>...</td>\n",
       "      <td>...</td>\n",
       "      <td>...</td>\n",
       "    </tr>\n",
       "    <tr>\n",
       "      <th>447</th>\n",
       "      <td>2019</td>\n",
       "      <td>Winter</td>\n",
       "      <td>-11.395062</td>\n",
       "    </tr>\n",
       "    <tr>\n",
       "      <th>448</th>\n",
       "      <td>2020</td>\n",
       "      <td>Autumn</td>\n",
       "      <td>7.717718</td>\n",
       "    </tr>\n",
       "    <tr>\n",
       "      <th>449</th>\n",
       "      <td>2020</td>\n",
       "      <td>Spring</td>\n",
       "      <td>-0.827295</td>\n",
       "    </tr>\n",
       "    <tr>\n",
       "      <th>450</th>\n",
       "      <td>2020</td>\n",
       "      <td>Summer</td>\n",
       "      <td>14.438339</td>\n",
       "    </tr>\n",
       "    <tr>\n",
       "      <th>451</th>\n",
       "      <td>2020</td>\n",
       "      <td>Winter</td>\n",
       "      <td>-9.194444</td>\n",
       "    </tr>\n",
       "  </tbody>\n",
       "</table>\n",
       "<p>452 rows × 3 columns</p>\n",
       "</div>"
      ],
      "text/plain": [
       "     YEAR  SEASON  TEMP_YearlyS\n",
       "0    1908  Autumn     -1.859217\n",
       "1    1908  Spring     -2.693508\n",
       "2    1908  Summer     11.105006\n",
       "3    1908  Winter    -12.330779\n",
       "4    1909  Autumn     -1.541823\n",
       "..    ...     ...           ...\n",
       "447  2019  Winter    -11.395062\n",
       "448  2020  Autumn      7.717718\n",
       "449  2020  Spring     -0.827295\n",
       "450  2020  Summer     14.438339\n",
       "451  2020  Winter     -9.194444\n",
       "\n",
       "[452 rows x 3 columns]"
      ]
     },
     "execution_count": 16,
     "metadata": {},
     "output_type": "execute_result"
    }
   ],
   "source": [
    "YearlySeason"
   ]
  },
  {
   "cell_type": "code",
   "execution_count": 17,
   "metadata": {},
   "outputs": [
    {
     "data": {
      "text/plain": [
       "' Running the followung code will print all the temperature values\\nbe cautious \\nfor temp, season, year in zip(groupSeason[\"TEMP_C\"], groupSeason[\"YEAR\"], groupSeason[\"SEASON\"]):\\n    print(f\"The average temperature for the {season}  of {year} is {temp:.2f}°C\")\\n    '"
      ]
     },
     "execution_count": 17,
     "metadata": {},
     "output_type": "execute_result"
    }
   ],
   "source": [
    "\"\"\" Running the followung code will print all the temperature values\n",
    "be cautious \n",
    "for temp, season, year in zip(groupSeason[\"TEMP_C\"], groupSeason[\"YEAR\"], groupSeason[\"SEASON\"]):\n",
    "    print(f\"The average temperature for the {season}  of {year} is {temp:.2f}°C\")\n",
    "    \"\"\" "
   ]
  },
  {
   "cell_type": "markdown",
   "metadata": {},
   "source": [
    "#### 5. Calculate seasonal average temperatures for the reference period 1951-1980 (e.g., 4 values in total, one for each season)."
   ]
  },
  {
   "cell_type": "code",
   "execution_count": 18,
   "metadata": {},
   "outputs": [
    {
     "data": {
      "text/html": [
       "<div>\n",
       "<style scoped>\n",
       "    .dataframe tbody tr th:only-of-type {\n",
       "        vertical-align: middle;\n",
       "    }\n",
       "\n",
       "    .dataframe tbody tr th {\n",
       "        vertical-align: top;\n",
       "    }\n",
       "\n",
       "    .dataframe thead th {\n",
       "        text-align: right;\n",
       "    }\n",
       "</style>\n",
       "<table border=\"1\" class=\"dataframe\">\n",
       "  <thead>\n",
       "    <tr style=\"text-align: right;\">\n",
       "      <th></th>\n",
       "      <th>SEASON</th>\n",
       "      <th>TEMP_AvSe</th>\n",
       "    </tr>\n",
       "  </thead>\n",
       "  <tbody>\n",
       "    <tr>\n",
       "      <th>0</th>\n",
       "      <td>Autumn</td>\n",
       "      <td>-0.814910</td>\n",
       "    </tr>\n",
       "    <tr>\n",
       "      <th>1</th>\n",
       "      <td>Spring</td>\n",
       "      <td>-2.338307</td>\n",
       "    </tr>\n",
       "    <tr>\n",
       "      <th>2</th>\n",
       "      <td>Summer</td>\n",
       "      <td>12.400262</td>\n",
       "    </tr>\n",
       "    <tr>\n",
       "      <th>3</th>\n",
       "      <td>Winter</td>\n",
       "      <td>-13.552540</td>\n",
       "    </tr>\n",
       "  </tbody>\n",
       "</table>\n",
       "</div>"
      ],
      "text/plain": [
       "   SEASON  TEMP_AvSe\n",
       "0  Autumn  -0.814910\n",
       "1  Spring  -2.338307\n",
       "2  Summer  12.400262\n",
       "3  Winter -13.552540"
      ]
     },
     "execution_count": 18,
     "metadata": {},
     "output_type": "execute_result"
    }
   ],
   "source": [
    "\"\"\" Grouping every data to the season it was recorded on \"\"\"\n",
    "# Selecting the data for the period between 1951 and 198\n",
    "selected = data.loc[(data[\"YEAR\"] >= 1951) & (data[\"YEAR\"] <= 1980)]\n",
    "\n",
    "grouped51_80 = selected.groupby(\"SEASON\")[\"TEMP_C\"].mean().reset_index().rename(columns={\"TEMP_C\": \"TEMP_AvSe\"})\n",
    "grouped51_80"
   ]
  },
  {
   "cell_type": "code",
   "execution_count": 19,
   "metadata": {},
   "outputs": [
    {
     "name": "stdout",
     "output_type": "stream",
     "text": [
      " The average seasonal temerature for Autumn was -0.81 °C\n",
      " The average seasonal temerature for Spring was -2.34 °C\n",
      " The average seasonal temerature for Summer was 12.40 °C\n",
      " The average seasonal temerature for Winter was -13.55 °C\n"
     ]
    }
   ],
   "source": [
    "for season, temp in zip(grouped51_80[\"SEASON\"], grouped51_80[\"TEMP_AvSe\"]):\n",
    "    print(f\" The average seasonal temerature for {season} was {temp:.2f} °C\")"
   ]
  },
  {
   "cell_type": "code",
   "execution_count": 20,
   "metadata": {},
   "outputs": [
    {
     "name": "stdout",
     "output_type": "stream",
     "text": [
      "The mean temperature for winter season for the recorded period is -12.89 °C.\n",
      "The mean temperature for Spring season for the recorded period is -2.03 °C.\n",
      "The mean temperature for Summer season for the recorded period is 12.44 °C.\n",
      "The mean temperature for Autumn season for the recorded period is -0.49 °C.\n"
     ]
    }
   ],
   "source": [
    "\"\"\" Calculating the mean temperature for the 4 seasons of the whole period \"\"\"\n",
    "# For winter\n",
    "Winter_average = data[\"TEMP_C\"].loc[data[\"SEASON\"] == \"Winter\"].mean()\n",
    "print(f\"The mean temperature for winter season for the recorded period is {Winter_average.round(2)} °C.\")\n",
    "\n",
    "# For Spring\n",
    "Spring_average = data[\"TEMP_C\"].loc[data[\"SEASON\"] == \"Spring\"].mean()\n",
    "print(f\"The mean temperature for Spring season for the recorded period is {Spring_average.round(2)} °C.\")\n",
    "\n",
    "# For Summer\n",
    "Summer_average = data[\"TEMP_C\"].loc[data[\"SEASON\"] == \"Summer\"].mean()\n",
    "print(f\"The mean temperature for Summer season for the recorded period is {Summer_average.round(2)} °C.\")\n",
    "\n",
    "# For Autumn\n",
    "Autumn_average = data[\"TEMP_C\"].loc[data[\"SEASON\"] == \"Autumn\"].mean()\n",
    "print(f\"The mean temperature for Autumn season for the recorded period is {Autumn_average.round(2)} °C.\")\n"
   ]
  },
  {
   "cell_type": "markdown",
   "metadata": {},
   "source": [
    "#### 6. Calculate seasonal temperature anomalies for each year."
   ]
  },
  {
   "cell_type": "code",
   "execution_count": 21,
   "metadata": {},
   "outputs": [],
   "source": [
    "\"\"\"\n",
    "The Seasonal temperature anomaly is calculated as the difference between the temperature for a \n",
    "given season of a certain yearn(TEMP_C in YearlySeason) and the corresponding Seosnal \n",
    "reference temperature (TEMP_AvSe column grouped51_80)\n",
    "\"\"\"\n",
    "\n",
    "#Choosing the same years\n",
    "YearlySeason =  YearlySeason.loc[(YearlySeason[\"YEAR\"] >= 1951) & (YearlySeason[\"YEAR\"] <= 1980)]\n",
    "\n",
    "# Make a table join between YearlySeason and grouped51_80 to calcualte the anomalis \n",
    "SeaonalAnom = YearlySeason.merge(grouped51_80, on=\"SEASON\")\n",
    "\n",
    "# Finding the anamolies by calculating the difference between YearlySeason from grouped51_80 in anew column ANOMALY\n",
    "SeaonalAnom[\"ANOMALY\"] = SeaonalAnom[\"TEMP_YearlyS\"] - SeaonalAnom[\"TEMP_AvSe\"]"
   ]
  },
  {
   "cell_type": "markdown",
   "metadata": {},
   "source": [
    "#### 7. Plot the data as shown in the example\n",
    " \n",
    "   ![](https://raw.githubusercontent.com/Geo-Python-2024/Final-exercise/main/img/axes.png)"
   ]
  },
  {
   "cell_type": "code",
   "execution_count": 22,
   "metadata": {},
   "outputs": [],
   "source": [
    "\"\"\"\n",
    "Dividing the SeaonalAnom data to four parts [Winter, Spring, Summer, Autumn] for ploting\n",
    "\"\"\"\n",
    "Winter = SeaonalAnom[SeaonalAnom[\"SEASON\"] == \"Winter\"]\n",
    "\n",
    "Spring = SeaonalAnom[SeaonalAnom[\"SEASON\"] == \"Spring\"]\n",
    "\n",
    "Summer= SeaonalAnom[SeaonalAnom[\"SEASON\"] == \"Summer\"]\n",
    "\n",
    "Autumn = SeaonalAnom[SeaonalAnom[\"SEASON\"] == \"Autumn\"]"
   ]
  },
  {
   "cell_type": "code",
   "execution_count": 23,
   "metadata": {},
   "outputs": [
    {
     "data": {
      "text/html": [
       "<div>\n",
       "<style scoped>\n",
       "    .dataframe tbody tr th:only-of-type {\n",
       "        vertical-align: middle;\n",
       "    }\n",
       "\n",
       "    .dataframe tbody tr th {\n",
       "        vertical-align: top;\n",
       "    }\n",
       "\n",
       "    .dataframe thead th {\n",
       "        text-align: right;\n",
       "    }\n",
       "</style>\n",
       "<table border=\"1\" class=\"dataframe\">\n",
       "  <thead>\n",
       "    <tr style=\"text-align: right;\">\n",
       "      <th></th>\n",
       "      <th>YEAR</th>\n",
       "      <th>SEASON</th>\n",
       "      <th>TEMP_YearlyS</th>\n",
       "      <th>TEMP_AvSe</th>\n",
       "      <th>ANOMALY</th>\n",
       "    </tr>\n",
       "  </thead>\n",
       "  <tbody>\n",
       "    <tr>\n",
       "      <th>3</th>\n",
       "      <td>1951</td>\n",
       "      <td>Winter</td>\n",
       "      <td>-13.904321</td>\n",
       "      <td>-13.55254</td>\n",
       "      <td>-0.351781</td>\n",
       "    </tr>\n",
       "    <tr>\n",
       "      <th>7</th>\n",
       "      <td>1952</td>\n",
       "      <td>Winter</td>\n",
       "      <td>-10.262515</td>\n",
       "      <td>-13.55254</td>\n",
       "      <td>3.290025</td>\n",
       "    </tr>\n",
       "    <tr>\n",
       "      <th>11</th>\n",
       "      <td>1953</td>\n",
       "      <td>Winter</td>\n",
       "      <td>-11.003086</td>\n",
       "      <td>-13.55254</td>\n",
       "      <td>2.549453</td>\n",
       "    </tr>\n",
       "    <tr>\n",
       "      <th>15</th>\n",
       "      <td>1954</td>\n",
       "      <td>Winter</td>\n",
       "      <td>-10.216049</td>\n",
       "      <td>-13.55254</td>\n",
       "      <td>3.336490</td>\n",
       "    </tr>\n",
       "    <tr>\n",
       "      <th>19</th>\n",
       "      <td>1955</td>\n",
       "      <td>Winter</td>\n",
       "      <td>-18.135802</td>\n",
       "      <td>-13.55254</td>\n",
       "      <td>-4.583263</td>\n",
       "    </tr>\n",
       "  </tbody>\n",
       "</table>\n",
       "</div>"
      ],
      "text/plain": [
       "    YEAR  SEASON  TEMP_YearlyS  TEMP_AvSe   ANOMALY\n",
       "3   1951  Winter    -13.904321  -13.55254 -0.351781\n",
       "7   1952  Winter    -10.262515  -13.55254  3.290025\n",
       "11  1953  Winter    -11.003086  -13.55254  2.549453\n",
       "15  1954  Winter    -10.216049  -13.55254  3.336490\n",
       "19  1955  Winter    -18.135802  -13.55254 -4.583263"
      ]
     },
     "execution_count": 23,
     "metadata": {},
     "output_type": "execute_result"
    }
   ],
   "source": [
    "# Testing the result\n",
    "Winter.head()"
   ]
  },
  {
   "cell_type": "code",
   "execution_count": 26,
   "metadata": {},
   "outputs": [
    {
     "data": {
      "image/png": "[encoded data removed]",
      "text/plain": [
       "<Figure size 1200x800 with 4 Axes>"
      ]
     },
     "metadata": {},
     "output_type": "display_data"
    }
   ],
   "source": [
    "# Create the figure and subplot axes\n",
    "fig, axs = plt.subplots(nrows=2, ncols=2, figsize=(12, 8))\n",
    "\n",
    "# Define variables to easily refer to axes\n",
    "ax11 = axs[0][0]\n",
    "ax12 = axs[0][1]\n",
    "ax21 = axs[1][0]\n",
    "ax22 = axs[1][1]\n",
    "\n",
    "# Set plot line width\n",
    "line_width = 1.5\n",
    "\n",
    "# Plot data\n",
    "\n",
    "Winter.plot(\n",
    "    y= \"ANOMALY\",\n",
    "    x= \"YEAR\",\n",
    "    ax=ax11,\n",
    "    c=\"blue\",\n",
    "    xlim=[1951, 1980],\n",
    "    ylabel = \"Temperature Anomly\",\n",
    "    xlabel= \"Year\",\n",
    "    grid= True,\n",
    "    lw=line_width\n",
    ")\n",
    "\n",
    "\n",
    "Spring.plot(\n",
    "    y= \"ANOMALY\",\n",
    "    x= \"YEAR\",\n",
    "    ax=ax12,\n",
    "    c=\"g\",\n",
    "     grid= True,\n",
    "    xlabel= \"Year\",\n",
    "    xlim=[1951, 1980],\n",
    "    lw=line_width\n",
    ")\n",
    "\n",
    "Summer.plot(\n",
    "    ax=ax21,\n",
    "    y= \"ANOMALY\",\n",
    "    x= \"YEAR\",\n",
    "    ylabel = \"Temperature Anomly\",\n",
    "    xlabel= \"Year\",\n",
    "    c=\"r\",\n",
    "    grid= True,\n",
    "    xlim=[1951, 1980],\n",
    "    lw=line_width\n",
    ")\n",
    "\n",
    "Autumn.plot(\n",
    "    ax=ax22,\n",
    "    y= \"ANOMALY\",\n",
    "    x= \"YEAR\",\n",
    "    xlabel= \"Year\",\n",
    "    c=\"#964B00\",\n",
    "    grid= True,\n",
    "    xlim=[1951, 1980],\n",
    "    lw=line_width\n",
    ")\n",
    "\n",
    "# Subplot Title \n",
    "fig.suptitle(\"1951-1980 Seasonal anomalies\")\n",
    "\n",
    "#Adding text to plots\n",
    "ax11.text(1961.5, 4, \"Winter\", c=\"b\", fontsize= 20)\n",
    "ax12.text(1957, -2.5, \"Spring\", c=\"g\", fontsize= 20)\n",
    "ax21.text(1961.5, 1, \"Summer\", c=\"r\", fontsize= 20)\n",
    "ax22.text(1957, -2.5, \"Autumn\", c=\"#964B00\", fontsize= 20)\n",
    "\n",
    "plt.show()"
   ]
  },
  {
   "cell_type": "code",
   "execution_count": null,
   "metadata": {},
   "outputs": [],
   "source": []
  }
 ],
 "metadata": {
  "kernelspec": {
   "display_name": "Python 3 (ipykernel)",
   "language": "python",
   "name": "python3"
  },
  "language_info": {
   "codemirror_mode": {
    "name": "ipython",
    "version": 3
   },
   "file_extension": ".py",
   "mimetype": "text/x-python",
   "name": "python",
   "nbconvert_exporter": "python",
   "pygments_lexer": "ipython3",
   "version": "3.13.0"
  }
 },
 "nbformat": 4,
 "nbformat_minor": 4
}
